{
 "cells": [
  {
   "cell_type": "code",
   "execution_count": 1,
   "metadata": {
    "collapsed": true
   },
   "outputs": [],
   "source": [
    "%load_ext autoreload\n",
    "%autoreload 2"
   ]
  },
  {
   "cell_type": "code",
   "execution_count": 2,
   "outputs": [],
   "source": [
    "db_file = \"../data/users.json\"\n",
    "output_file = \"../data/contacts.csv\"\n",
    "max_codeplug = 200000"
   ],
   "metadata": {
    "collapsed": false,
    "pycharm": {
     "name": "#%%\n"
    }
   }
  },
  {
   "cell_type": "code",
   "execution_count": 3,
   "outputs": [],
   "source": [
    "import json\n",
    "import io\n",
    "import pandas as pd\n",
    "import csv"
   ],
   "metadata": {
    "collapsed": false,
    "pycharm": {
     "name": "#%%\n"
    }
   }
  },
  {
   "cell_type": "code",
   "execution_count": 3,
   "outputs": [],
   "source": [],
   "metadata": {
    "collapsed": false,
    "pycharm": {
     "name": "#%%\n"
    }
   }
  },
  {
   "cell_type": "code",
   "execution_count": 4,
   "outputs": [],
   "source": [
    "users = json.load(open(db_file))"
   ],
   "metadata": {
    "collapsed": false,
    "pycharm": {
     "name": "#%%\n"
    }
   }
  },
  {
   "cell_type": "code",
   "execution_count": 5,
   "outputs": [],
   "source": [
    "\n",
    "\n",
    "users_buffer = io.StringIO(json.dumps(users.get(\"users\")))"
   ],
   "metadata": {
    "collapsed": false,
    "pycharm": {
     "name": "#%%\n"
    }
   }
  },
  {
   "cell_type": "code",
   "execution_count": 6,
   "outputs": [
    {
     "data": {
      "text/plain": "                fname           name  country callsign                  city  \\\n0               Wayne          Wayne   Canada   VE3THW               Toronto   \n1             Mathieu        Mathieu   Canada   VA3ECM           Ottawa-Hull   \n2                 Guy            Guy   Canada    VE3QC            Gloucester   \n3       Allan Timothy  Allan Timothy   Canada    VA3UZ                Sparta   \n4        Hans Juergen   Hans Juergen   Canada   VA3BOC              Cornwall   \n...               ...            ...      ...      ...                   ...   \n209066         Daniel         Daniel  Uruguay    CX2RT    Maldonado-Lausana-   \n209067           Luis           Luis  Uruguay    CX1RE             Maldonado   \n209068   Mario Hector   Mario Hector  Uruguay    CX4RP  Piriapolis Maldonado   \n209069     E. Eugenio     E. Eugenio  Uruguay    CX7SS         Villa Serrana   \n209070          Ruben          Ruben  Uruguay    CX2SE                 Minas   \n\n                 surname  radio_id       id remarks      state country_index  \\\n0                 Edward   1023001  1023001     DMR    Ontario        canada   \n1                 Goulet   1023002  1023002    CCS7     Quebec        canada   \n2                Charron   1023003  1023003    CCS7    Ontario        canada   \n3                 Harvey   1023006  1023006     DMR    Ontario        canada   \n4               Bockholt   1023007  1023007            Ontario        canada   \n...                  ...       ...      ...     ...        ...           ...   \n209066            Mazzul   7486001  7486001     DMR  Maldonado       uruguay   \n209067           Olivera   7486002  7486002     DMR  Maldonado       uruguay   \n209068  Paller Figueiras   7486003  7486003     DMR  Maldonado       uruguay   \n209069         De Marino   7489001  7489001     DMR                  uruguay   \n209070      Cabral Lopez   7489002  7489002     DMR                  uruguay   \n\n                  city_index  \n0                    toronto  \n1                ottawa-hull  \n2                 gloucester  \n3                     sparta  \n4                   cornwall  \n...                      ...  \n209066    maldonado-lausana-  \n209067             maldonado  \n209068  piriapolis maldonado  \n209069         villa serrana  \n209070                 minas  \n\n[209071 rows x 12 columns]",
      "text/html": "<div>\n<style scoped>\n    .dataframe tbody tr th:only-of-type {\n        vertical-align: middle;\n    }\n\n    .dataframe tbody tr th {\n        vertical-align: top;\n    }\n\n    .dataframe thead th {\n        text-align: right;\n    }\n</style>\n<table border=\"1\" class=\"dataframe\">\n  <thead>\n    <tr style=\"text-align: right;\">\n      <th></th>\n      <th>fname</th>\n      <th>name</th>\n      <th>country</th>\n      <th>callsign</th>\n      <th>city</th>\n      <th>surname</th>\n      <th>radio_id</th>\n      <th>id</th>\n      <th>remarks</th>\n      <th>state</th>\n      <th>country_index</th>\n      <th>city_index</th>\n    </tr>\n  </thead>\n  <tbody>\n    <tr>\n      <th>0</th>\n      <td>Wayne</td>\n      <td>Wayne</td>\n      <td>Canada</td>\n      <td>VE3THW</td>\n      <td>Toronto</td>\n      <td>Edward</td>\n      <td>1023001</td>\n      <td>1023001</td>\n      <td>DMR</td>\n      <td>Ontario</td>\n      <td>canada</td>\n      <td>toronto</td>\n    </tr>\n    <tr>\n      <th>1</th>\n      <td>Mathieu</td>\n      <td>Mathieu</td>\n      <td>Canada</td>\n      <td>VA3ECM</td>\n      <td>Ottawa-Hull</td>\n      <td>Goulet</td>\n      <td>1023002</td>\n      <td>1023002</td>\n      <td>CCS7</td>\n      <td>Quebec</td>\n      <td>canada</td>\n      <td>ottawa-hull</td>\n    </tr>\n    <tr>\n      <th>2</th>\n      <td>Guy</td>\n      <td>Guy</td>\n      <td>Canada</td>\n      <td>VE3QC</td>\n      <td>Gloucester</td>\n      <td>Charron</td>\n      <td>1023003</td>\n      <td>1023003</td>\n      <td>CCS7</td>\n      <td>Ontario</td>\n      <td>canada</td>\n      <td>gloucester</td>\n    </tr>\n    <tr>\n      <th>3</th>\n      <td>Allan Timothy</td>\n      <td>Allan Timothy</td>\n      <td>Canada</td>\n      <td>VA3UZ</td>\n      <td>Sparta</td>\n      <td>Harvey</td>\n      <td>1023006</td>\n      <td>1023006</td>\n      <td>DMR</td>\n      <td>Ontario</td>\n      <td>canada</td>\n      <td>sparta</td>\n    </tr>\n    <tr>\n      <th>4</th>\n      <td>Hans Juergen</td>\n      <td>Hans Juergen</td>\n      <td>Canada</td>\n      <td>VA3BOC</td>\n      <td>Cornwall</td>\n      <td>Bockholt</td>\n      <td>1023007</td>\n      <td>1023007</td>\n      <td></td>\n      <td>Ontario</td>\n      <td>canada</td>\n      <td>cornwall</td>\n    </tr>\n    <tr>\n      <th>...</th>\n      <td>...</td>\n      <td>...</td>\n      <td>...</td>\n      <td>...</td>\n      <td>...</td>\n      <td>...</td>\n      <td>...</td>\n      <td>...</td>\n      <td>...</td>\n      <td>...</td>\n      <td>...</td>\n      <td>...</td>\n    </tr>\n    <tr>\n      <th>209066</th>\n      <td>Daniel</td>\n      <td>Daniel</td>\n      <td>Uruguay</td>\n      <td>CX2RT</td>\n      <td>Maldonado-Lausana-</td>\n      <td>Mazzul</td>\n      <td>7486001</td>\n      <td>7486001</td>\n      <td>DMR</td>\n      <td>Maldonado</td>\n      <td>uruguay</td>\n      <td>maldonado-lausana-</td>\n    </tr>\n    <tr>\n      <th>209067</th>\n      <td>Luis</td>\n      <td>Luis</td>\n      <td>Uruguay</td>\n      <td>CX1RE</td>\n      <td>Maldonado</td>\n      <td>Olivera</td>\n      <td>7486002</td>\n      <td>7486002</td>\n      <td>DMR</td>\n      <td>Maldonado</td>\n      <td>uruguay</td>\n      <td>maldonado</td>\n    </tr>\n    <tr>\n      <th>209068</th>\n      <td>Mario Hector</td>\n      <td>Mario Hector</td>\n      <td>Uruguay</td>\n      <td>CX4RP</td>\n      <td>Piriapolis Maldonado</td>\n      <td>Paller Figueiras</td>\n      <td>7486003</td>\n      <td>7486003</td>\n      <td>DMR</td>\n      <td>Maldonado</td>\n      <td>uruguay</td>\n      <td>piriapolis maldonado</td>\n    </tr>\n    <tr>\n      <th>209069</th>\n      <td>E. Eugenio</td>\n      <td>E. Eugenio</td>\n      <td>Uruguay</td>\n      <td>CX7SS</td>\n      <td>Villa Serrana</td>\n      <td>De Marino</td>\n      <td>7489001</td>\n      <td>7489001</td>\n      <td>DMR</td>\n      <td></td>\n      <td>uruguay</td>\n      <td>villa serrana</td>\n    </tr>\n    <tr>\n      <th>209070</th>\n      <td>Ruben</td>\n      <td>Ruben</td>\n      <td>Uruguay</td>\n      <td>CX2SE</td>\n      <td>Minas</td>\n      <td>Cabral Lopez</td>\n      <td>7489002</td>\n      <td>7489002</td>\n      <td>DMR</td>\n      <td></td>\n      <td>uruguay</td>\n      <td>minas</td>\n    </tr>\n  </tbody>\n</table>\n<p>209071 rows × 12 columns</p>\n</div>"
     },
     "execution_count": 6,
     "metadata": {},
     "output_type": "execute_result"
    }
   ],
   "source": [
    "all_users = pd.read_json(users_buffer, orient=\"records\")\n",
    "all_users['country_index'] = all_users['country'].str.lower()\n",
    "all_users['city_index'] = all_users['city'].str.lower()\n",
    "all_users\n"
   ],
   "metadata": {
    "collapsed": false,
    "pycharm": {
     "name": "#%%\n"
    }
   }
  },
  {
   "cell_type": "code",
   "execution_count": 7,
   "outputs": [
    {
     "data": {
      "text/plain": "            fname       name        country callsign           city  \\\n60109        Leif       Leif  Aland Islands   OH0KCE       Finstrom   \n60106        Leif       Leif  Aland Islands   OH0KCE       Finstrom   \n199188  Djaballah  Djaballah        Algeria    7X2DD         Djelfa   \n199187      Amine      Amine        Algeria    7X2ET  Algiers KOUBA   \n199186      Rabeh      Rabeh        Algeria    7X2EZ        Algiers   \n...           ...        ...            ...      ...            ...   \n199325      Jerry      Jerry         Zambia    9J2BS       Mufulira   \n199324        Rob        Rob         Zambia    9J2RD          Ndola   \n199323       Gabi       Gabi         Zambia    9J2YO         Lusaka   \n199394     Howard     Howard       Zimbabwe    Z21EK         Harare   \n199393      David      David       Zimbabwe   Z21NRT         Harare   \n\n           surname  radio_id       id remarks state  country_index  \\\n60109                2440005  2440005    None        aland islands   \n60106                2440002  2440002    None        aland islands   \n199188     Mohamed   6030009  6030009     DMR              algeria   \n199187  Ait Chalal   6030008  6030008     DMR              algeria   \n199186     Slimani   6030007  6030007     DMR              algeria   \n...            ...       ...      ...     ...   ...            ...   \n199325               6450003  6450003    None               zambia   \n199324               6450002  6450002    None               zambia   \n199323               6450001  6450001    None               zambia   \n199394               6480002  6480002    None             zimbabwe   \n199393               6480001  6480001    None             zimbabwe   \n\n           city_index  \n60109        finstrom  \n60106        finstrom  \n199188         djelfa  \n199187  algiers kouba  \n199186        algiers  \n...               ...  \n199325       mufulira  \n199324          ndola  \n199323         lusaka  \n199394         harare  \n199393         harare  \n\n[209071 rows x 12 columns]",
      "text/html": "<div>\n<style scoped>\n    .dataframe tbody tr th:only-of-type {\n        vertical-align: middle;\n    }\n\n    .dataframe tbody tr th {\n        vertical-align: top;\n    }\n\n    .dataframe thead th {\n        text-align: right;\n    }\n</style>\n<table border=\"1\" class=\"dataframe\">\n  <thead>\n    <tr style=\"text-align: right;\">\n      <th></th>\n      <th>fname</th>\n      <th>name</th>\n      <th>country</th>\n      <th>callsign</th>\n      <th>city</th>\n      <th>surname</th>\n      <th>radio_id</th>\n      <th>id</th>\n      <th>remarks</th>\n      <th>state</th>\n      <th>country_index</th>\n      <th>city_index</th>\n    </tr>\n  </thead>\n  <tbody>\n    <tr>\n      <th>60109</th>\n      <td>Leif</td>\n      <td>Leif</td>\n      <td>Aland Islands</td>\n      <td>OH0KCE</td>\n      <td>Finstrom</td>\n      <td></td>\n      <td>2440005</td>\n      <td>2440005</td>\n      <td>None</td>\n      <td></td>\n      <td>aland islands</td>\n      <td>finstrom</td>\n    </tr>\n    <tr>\n      <th>60106</th>\n      <td>Leif</td>\n      <td>Leif</td>\n      <td>Aland Islands</td>\n      <td>OH0KCE</td>\n      <td>Finstrom</td>\n      <td></td>\n      <td>2440002</td>\n      <td>2440002</td>\n      <td>None</td>\n      <td></td>\n      <td>aland islands</td>\n      <td>finstrom</td>\n    </tr>\n    <tr>\n      <th>199188</th>\n      <td>Djaballah</td>\n      <td>Djaballah</td>\n      <td>Algeria</td>\n      <td>7X2DD</td>\n      <td>Djelfa</td>\n      <td>Mohamed</td>\n      <td>6030009</td>\n      <td>6030009</td>\n      <td>DMR</td>\n      <td></td>\n      <td>algeria</td>\n      <td>djelfa</td>\n    </tr>\n    <tr>\n      <th>199187</th>\n      <td>Amine</td>\n      <td>Amine</td>\n      <td>Algeria</td>\n      <td>7X2ET</td>\n      <td>Algiers KOUBA</td>\n      <td>Ait Chalal</td>\n      <td>6030008</td>\n      <td>6030008</td>\n      <td>DMR</td>\n      <td></td>\n      <td>algeria</td>\n      <td>algiers kouba</td>\n    </tr>\n    <tr>\n      <th>199186</th>\n      <td>Rabeh</td>\n      <td>Rabeh</td>\n      <td>Algeria</td>\n      <td>7X2EZ</td>\n      <td>Algiers</td>\n      <td>Slimani</td>\n      <td>6030007</td>\n      <td>6030007</td>\n      <td>DMR</td>\n      <td></td>\n      <td>algeria</td>\n      <td>algiers</td>\n    </tr>\n    <tr>\n      <th>...</th>\n      <td>...</td>\n      <td>...</td>\n      <td>...</td>\n      <td>...</td>\n      <td>...</td>\n      <td>...</td>\n      <td>...</td>\n      <td>...</td>\n      <td>...</td>\n      <td>...</td>\n      <td>...</td>\n      <td>...</td>\n    </tr>\n    <tr>\n      <th>199325</th>\n      <td>Jerry</td>\n      <td>Jerry</td>\n      <td>Zambia</td>\n      <td>9J2BS</td>\n      <td>Mufulira</td>\n      <td></td>\n      <td>6450003</td>\n      <td>6450003</td>\n      <td>None</td>\n      <td></td>\n      <td>zambia</td>\n      <td>mufulira</td>\n    </tr>\n    <tr>\n      <th>199324</th>\n      <td>Rob</td>\n      <td>Rob</td>\n      <td>Zambia</td>\n      <td>9J2RD</td>\n      <td>Ndola</td>\n      <td></td>\n      <td>6450002</td>\n      <td>6450002</td>\n      <td>None</td>\n      <td></td>\n      <td>zambia</td>\n      <td>ndola</td>\n    </tr>\n    <tr>\n      <th>199323</th>\n      <td>Gabi</td>\n      <td>Gabi</td>\n      <td>Zambia</td>\n      <td>9J2YO</td>\n      <td>Lusaka</td>\n      <td></td>\n      <td>6450001</td>\n      <td>6450001</td>\n      <td>None</td>\n      <td></td>\n      <td>zambia</td>\n      <td>lusaka</td>\n    </tr>\n    <tr>\n      <th>199394</th>\n      <td>Howard</td>\n      <td>Howard</td>\n      <td>Zimbabwe</td>\n      <td>Z21EK</td>\n      <td>Harare</td>\n      <td></td>\n      <td>6480002</td>\n      <td>6480002</td>\n      <td>None</td>\n      <td></td>\n      <td>zimbabwe</td>\n      <td>harare</td>\n    </tr>\n    <tr>\n      <th>199393</th>\n      <td>David</td>\n      <td>David</td>\n      <td>Zimbabwe</td>\n      <td>Z21NRT</td>\n      <td>Harare</td>\n      <td></td>\n      <td>6480001</td>\n      <td>6480001</td>\n      <td>None</td>\n      <td></td>\n      <td>zimbabwe</td>\n      <td>harare</td>\n    </tr>\n  </tbody>\n</table>\n<p>209071 rows × 12 columns</p>\n</div>"
     },
     "execution_count": 7,
     "metadata": {},
     "output_type": "execute_result"
    }
   ],
   "source": [
    "all_users = all_users.sort_values(by=[\"country_index\", \"radio_id\"], ascending=[True, False])\n",
    "all_users"
   ],
   "metadata": {
    "collapsed": false,
    "pycharm": {
     "name": "#%%\n"
    }
   }
  },
  {
   "cell_type": "code",
   "execution_count": 8,
   "outputs": [
    {
     "data": {
      "text/plain": "                count\ncountry_index        \nunited states   93740\nunited kingdom  14197\ngermany         13393\nitaly            9534\nspain            7124\n...               ...\nmacao               1\nmadagascar          1\nmauretania          1\nmontserrat          1\nkyrgyzstan          1\n\n[174 rows x 1 columns]",
      "text/html": "<div>\n<style scoped>\n    .dataframe tbody tr th:only-of-type {\n        vertical-align: middle;\n    }\n\n    .dataframe tbody tr th {\n        vertical-align: top;\n    }\n\n    .dataframe thead th {\n        text-align: right;\n    }\n</style>\n<table border=\"1\" class=\"dataframe\">\n  <thead>\n    <tr style=\"text-align: right;\">\n      <th></th>\n      <th>count</th>\n    </tr>\n    <tr>\n      <th>country_index</th>\n      <th></th>\n    </tr>\n  </thead>\n  <tbody>\n    <tr>\n      <th>united states</th>\n      <td>93740</td>\n    </tr>\n    <tr>\n      <th>united kingdom</th>\n      <td>14197</td>\n    </tr>\n    <tr>\n      <th>germany</th>\n      <td>13393</td>\n    </tr>\n    <tr>\n      <th>italy</th>\n      <td>9534</td>\n    </tr>\n    <tr>\n      <th>spain</th>\n      <td>7124</td>\n    </tr>\n    <tr>\n      <th>...</th>\n      <td>...</td>\n    </tr>\n    <tr>\n      <th>macao</th>\n      <td>1</td>\n    </tr>\n    <tr>\n      <th>madagascar</th>\n      <td>1</td>\n    </tr>\n    <tr>\n      <th>mauretania</th>\n      <td>1</td>\n    </tr>\n    <tr>\n      <th>montserrat</th>\n      <td>1</td>\n    </tr>\n    <tr>\n      <th>kyrgyzstan</th>\n      <td>1</td>\n    </tr>\n  </tbody>\n</table>\n<p>174 rows × 1 columns</p>\n</div>"
     },
     "execution_count": 8,
     "metadata": {},
     "output_type": "execute_result"
    }
   ],
   "source": [
    "callsign_per_country = all_users.groupby(by=[\"country_index\"])[\"radio_id\"].agg([\"count\"]).sort_values(by=\"count\", ascending=False)\n",
    "callsign_per_country"
   ],
   "metadata": {
    "collapsed": false,
    "pycharm": {
     "name": "#%%\n"
    }
   }
  },
  {
   "cell_type": "code",
   "execution_count": 9,
   "outputs": [
    {
     "data": {
      "text/plain": "                count  cumsum\ncountry_index                \nunited states   93740   93740\nunited kingdom  14197  107937\ngermany         13393  121330\nitaly            9534  130864\nspain            7124  137988\n...               ...     ...\nmacao               1  209067\nmadagascar          1  209068\nmauretania          1  209069\nmontserrat          1  209070\nkyrgyzstan          1  209071\n\n[174 rows x 2 columns]",
      "text/html": "<div>\n<style scoped>\n    .dataframe tbody tr th:only-of-type {\n        vertical-align: middle;\n    }\n\n    .dataframe tbody tr th {\n        vertical-align: top;\n    }\n\n    .dataframe thead th {\n        text-align: right;\n    }\n</style>\n<table border=\"1\" class=\"dataframe\">\n  <thead>\n    <tr style=\"text-align: right;\">\n      <th></th>\n      <th>count</th>\n      <th>cumsum</th>\n    </tr>\n    <tr>\n      <th>country_index</th>\n      <th></th>\n      <th></th>\n    </tr>\n  </thead>\n  <tbody>\n    <tr>\n      <th>united states</th>\n      <td>93740</td>\n      <td>93740</td>\n    </tr>\n    <tr>\n      <th>united kingdom</th>\n      <td>14197</td>\n      <td>107937</td>\n    </tr>\n    <tr>\n      <th>germany</th>\n      <td>13393</td>\n      <td>121330</td>\n    </tr>\n    <tr>\n      <th>italy</th>\n      <td>9534</td>\n      <td>130864</td>\n    </tr>\n    <tr>\n      <th>spain</th>\n      <td>7124</td>\n      <td>137988</td>\n    </tr>\n    <tr>\n      <th>...</th>\n      <td>...</td>\n      <td>...</td>\n    </tr>\n    <tr>\n      <th>macao</th>\n      <td>1</td>\n      <td>209067</td>\n    </tr>\n    <tr>\n      <th>madagascar</th>\n      <td>1</td>\n      <td>209068</td>\n    </tr>\n    <tr>\n      <th>mauretania</th>\n      <td>1</td>\n      <td>209069</td>\n    </tr>\n    <tr>\n      <th>montserrat</th>\n      <td>1</td>\n      <td>209070</td>\n    </tr>\n    <tr>\n      <th>kyrgyzstan</th>\n      <td>1</td>\n      <td>209071</td>\n    </tr>\n  </tbody>\n</table>\n<p>174 rows × 2 columns</p>\n</div>"
     },
     "execution_count": 9,
     "metadata": {},
     "output_type": "execute_result"
    }
   ],
   "source": [
    "callsign_per_country[\"cumsum\"] = callsign_per_country[\"count\"].cumsum()\n",
    "callsign_per_country"
   ],
   "metadata": {
    "collapsed": false,
    "pycharm": {
     "name": "#%%\n"
    }
   }
  },
  {
   "cell_type": "code",
   "execution_count": 10,
   "outputs": [
    {
     "data": {
      "text/plain": "         country_index  count  cumsum\n0        united states  93740   93740\n1       united kingdom  14197  107937\n2              germany  13393  121330\n3                italy   9534  130864\n4                spain   7124  137988\n5                china   5845  143833\n6               canada   5485  149318\n7               brazil   3992  153310\n8            australia   3559  156869\n9               turkey   3413  160282\n10              poland   3191  163473\n11         netherlands   2707  166180\n12              france   2548  168728\n13               chile   2118  170846\n14              sweden   2092  172938\n15              russia   1954  174892\n16             austria   1908  176800\n17         switzerland   1725  178525\n18              greece   1679  180204\n19               japan   1639  181843\n20             belgium   1555  183398\n21             denmark   1499  184897\n22   korea republic of   1481  186378\n23            thailand   1451  187829\n24         philippines   1447  189276\n25             finland   1193  190469\n26            portugal   1180  191649\n27              norway   1127  192776\n28  argentina republic    985  193761\n29         new zealand    961  194722\n30            malaysia    779  195501\n31      czech republic    700  196201\n32              mexico    699  196900\n33             romania    698  197598\n34            slovenia    662  198260\n35             hungary    623  198883\n36        south africa    521  199404\n37            bulgaria    517  199921",
      "text/html": "<div>\n<style scoped>\n    .dataframe tbody tr th:only-of-type {\n        vertical-align: middle;\n    }\n\n    .dataframe tbody tr th {\n        vertical-align: top;\n    }\n\n    .dataframe thead th {\n        text-align: right;\n    }\n</style>\n<table border=\"1\" class=\"dataframe\">\n  <thead>\n    <tr style=\"text-align: right;\">\n      <th></th>\n      <th>country_index</th>\n      <th>count</th>\n      <th>cumsum</th>\n    </tr>\n  </thead>\n  <tbody>\n    <tr>\n      <th>0</th>\n      <td>united states</td>\n      <td>93740</td>\n      <td>93740</td>\n    </tr>\n    <tr>\n      <th>1</th>\n      <td>united kingdom</td>\n      <td>14197</td>\n      <td>107937</td>\n    </tr>\n    <tr>\n      <th>2</th>\n      <td>germany</td>\n      <td>13393</td>\n      <td>121330</td>\n    </tr>\n    <tr>\n      <th>3</th>\n      <td>italy</td>\n      <td>9534</td>\n      <td>130864</td>\n    </tr>\n    <tr>\n      <th>4</th>\n      <td>spain</td>\n      <td>7124</td>\n      <td>137988</td>\n    </tr>\n    <tr>\n      <th>5</th>\n      <td>china</td>\n      <td>5845</td>\n      <td>143833</td>\n    </tr>\n    <tr>\n      <th>6</th>\n      <td>canada</td>\n      <td>5485</td>\n      <td>149318</td>\n    </tr>\n    <tr>\n      <th>7</th>\n      <td>brazil</td>\n      <td>3992</td>\n      <td>153310</td>\n    </tr>\n    <tr>\n      <th>8</th>\n      <td>australia</td>\n      <td>3559</td>\n      <td>156869</td>\n    </tr>\n    <tr>\n      <th>9</th>\n      <td>turkey</td>\n      <td>3413</td>\n      <td>160282</td>\n    </tr>\n    <tr>\n      <th>10</th>\n      <td>poland</td>\n      <td>3191</td>\n      <td>163473</td>\n    </tr>\n    <tr>\n      <th>11</th>\n      <td>netherlands</td>\n      <td>2707</td>\n      <td>166180</td>\n    </tr>\n    <tr>\n      <th>12</th>\n      <td>france</td>\n      <td>2548</td>\n      <td>168728</td>\n    </tr>\n    <tr>\n      <th>13</th>\n      <td>chile</td>\n      <td>2118</td>\n      <td>170846</td>\n    </tr>\n    <tr>\n      <th>14</th>\n      <td>sweden</td>\n      <td>2092</td>\n      <td>172938</td>\n    </tr>\n    <tr>\n      <th>15</th>\n      <td>russia</td>\n      <td>1954</td>\n      <td>174892</td>\n    </tr>\n    <tr>\n      <th>16</th>\n      <td>austria</td>\n      <td>1908</td>\n      <td>176800</td>\n    </tr>\n    <tr>\n      <th>17</th>\n      <td>switzerland</td>\n      <td>1725</td>\n      <td>178525</td>\n    </tr>\n    <tr>\n      <th>18</th>\n      <td>greece</td>\n      <td>1679</td>\n      <td>180204</td>\n    </tr>\n    <tr>\n      <th>19</th>\n      <td>japan</td>\n      <td>1639</td>\n      <td>181843</td>\n    </tr>\n    <tr>\n      <th>20</th>\n      <td>belgium</td>\n      <td>1555</td>\n      <td>183398</td>\n    </tr>\n    <tr>\n      <th>21</th>\n      <td>denmark</td>\n      <td>1499</td>\n      <td>184897</td>\n    </tr>\n    <tr>\n      <th>22</th>\n      <td>korea republic of</td>\n      <td>1481</td>\n      <td>186378</td>\n    </tr>\n    <tr>\n      <th>23</th>\n      <td>thailand</td>\n      <td>1451</td>\n      <td>187829</td>\n    </tr>\n    <tr>\n      <th>24</th>\n      <td>philippines</td>\n      <td>1447</td>\n      <td>189276</td>\n    </tr>\n    <tr>\n      <th>25</th>\n      <td>finland</td>\n      <td>1193</td>\n      <td>190469</td>\n    </tr>\n    <tr>\n      <th>26</th>\n      <td>portugal</td>\n      <td>1180</td>\n      <td>191649</td>\n    </tr>\n    <tr>\n      <th>27</th>\n      <td>norway</td>\n      <td>1127</td>\n      <td>192776</td>\n    </tr>\n    <tr>\n      <th>28</th>\n      <td>argentina republic</td>\n      <td>985</td>\n      <td>193761</td>\n    </tr>\n    <tr>\n      <th>29</th>\n      <td>new zealand</td>\n      <td>961</td>\n      <td>194722</td>\n    </tr>\n    <tr>\n      <th>30</th>\n      <td>malaysia</td>\n      <td>779</td>\n      <td>195501</td>\n    </tr>\n    <tr>\n      <th>31</th>\n      <td>czech republic</td>\n      <td>700</td>\n      <td>196201</td>\n    </tr>\n    <tr>\n      <th>32</th>\n      <td>mexico</td>\n      <td>699</td>\n      <td>196900</td>\n    </tr>\n    <tr>\n      <th>33</th>\n      <td>romania</td>\n      <td>698</td>\n      <td>197598</td>\n    </tr>\n    <tr>\n      <th>34</th>\n      <td>slovenia</td>\n      <td>662</td>\n      <td>198260</td>\n    </tr>\n    <tr>\n      <th>35</th>\n      <td>hungary</td>\n      <td>623</td>\n      <td>198883</td>\n    </tr>\n    <tr>\n      <th>36</th>\n      <td>south africa</td>\n      <td>521</td>\n      <td>199404</td>\n    </tr>\n    <tr>\n      <th>37</th>\n      <td>bulgaria</td>\n      <td>517</td>\n      <td>199921</td>\n    </tr>\n  </tbody>\n</table>\n</div>"
     },
     "execution_count": 10,
     "metadata": {},
     "output_type": "execute_result"
    }
   ],
   "source": [
    "most_callsigns_per_country = callsign_per_country.query(f\"cumsum <= {max_codeplug}\")\n",
    "\n",
    "most_callsigns_per_country = most_callsigns_per_country.reset_index()\n",
    "most_callsigns_per_country"
   ],
   "metadata": {
    "collapsed": false,
    "pycharm": {
     "name": "#%%\n"
    }
   }
  },
  {
   "cell_type": "code",
   "execution_count": 11,
   "outputs": [
    {
     "data": {
      "text/plain": "               count  cumsum\ncountry_index               \ncroatia          510  200431\nukraine          508  200939\nindonesia        490  201429\npuerto rico      486  201915\nindia            463  202378\n...              ...     ...\nmacao              1  209067\nmadagascar         1  209068\nmauretania         1  209069\nmontserrat         1  209070\nkyrgyzstan         1  209071\n\n[136 rows x 2 columns]",
      "text/html": "<div>\n<style scoped>\n    .dataframe tbody tr th:only-of-type {\n        vertical-align: middle;\n    }\n\n    .dataframe tbody tr th {\n        vertical-align: top;\n    }\n\n    .dataframe thead th {\n        text-align: right;\n    }\n</style>\n<table border=\"1\" class=\"dataframe\">\n  <thead>\n    <tr style=\"text-align: right;\">\n      <th></th>\n      <th>count</th>\n      <th>cumsum</th>\n    </tr>\n    <tr>\n      <th>country_index</th>\n      <th></th>\n      <th></th>\n    </tr>\n  </thead>\n  <tbody>\n    <tr>\n      <th>croatia</th>\n      <td>510</td>\n      <td>200431</td>\n    </tr>\n    <tr>\n      <th>ukraine</th>\n      <td>508</td>\n      <td>200939</td>\n    </tr>\n    <tr>\n      <th>indonesia</th>\n      <td>490</td>\n      <td>201429</td>\n    </tr>\n    <tr>\n      <th>puerto rico</th>\n      <td>486</td>\n      <td>201915</td>\n    </tr>\n    <tr>\n      <th>india</th>\n      <td>463</td>\n      <td>202378</td>\n    </tr>\n    <tr>\n      <th>...</th>\n      <td>...</td>\n      <td>...</td>\n    </tr>\n    <tr>\n      <th>macao</th>\n      <td>1</td>\n      <td>209067</td>\n    </tr>\n    <tr>\n      <th>madagascar</th>\n      <td>1</td>\n      <td>209068</td>\n    </tr>\n    <tr>\n      <th>mauretania</th>\n      <td>1</td>\n      <td>209069</td>\n    </tr>\n    <tr>\n      <th>montserrat</th>\n      <td>1</td>\n      <td>209070</td>\n    </tr>\n    <tr>\n      <th>kyrgyzstan</th>\n      <td>1</td>\n      <td>209071</td>\n    </tr>\n  </tbody>\n</table>\n<p>136 rows × 2 columns</p>\n</div>"
     },
     "execution_count": 11,
     "metadata": {},
     "output_type": "execute_result"
    }
   ],
   "source": [
    "least_callsigns_per_country = callsign_per_country.query(f\"cumsum > {max_codeplug}\")\n",
    "least_callsigns_per_country"
   ],
   "metadata": {
    "collapsed": false,
    "pycharm": {
     "name": "#%%\n"
    }
   }
  },
  {
   "cell_type": "code",
   "execution_count": 12,
   "outputs": [],
   "source": [
    "\n",
    "all_merged_users = all_users.merge(callsign_per_country, how=\"outer\", on=[\"country_index\"], indicator=True)\n",
    "\n",
    "potential_codeplug_users = all_merged_users.query(\"_merge == 'both'\").drop(columns=[\"_merge\"])\n",
    "extra_users = all_merged_users.query(\"_merge == 'left_only'\").drop(columns=[\"_merge\"])"
   ],
   "metadata": {
    "collapsed": false,
    "pycharm": {
     "name": "#%%\n"
    }
   }
  },
  {
   "cell_type": "code",
   "execution_count": 13,
   "outputs": [
    {
     "data": {
      "text/plain": "                 fname            name             country callsign  \\\n46              Levita          Levita  Argentina Republic   LU9FSD   \n47         Emilio Hugo     Emilio Hugo  Argentina Republic   LU2FEH   \n48      Andres Vicente  Andres Vicente  Argentina Republic   LU4FOZ   \n49      Andres Vicente  Andres Vicente  Argentina Republic   LU4FOZ   \n50       Santiago Ivan   Santiago Ivan  Argentina Republic    LU1FT   \n...                ...             ...                 ...      ...   \n208365           Brian           Brian       United States   KI6NRR   \n208366           Brian           Brian       United States   KI6NRR   \n208367          Raul G          Raul G       United States    N7BAR   \n208368      Frederic K      Frederic K       United States     KH7Y   \n208369           Frank           Frank       United States    K6FED   \n\n                           city          surname  radio_id       id remarks  \\\n46           Esperanza Santa Fe  Alejandro Angel   7229028  7229028     DMR   \n47        Pueblo Esther Sf 2126       Splendiani   7229027  7229027     DMR   \n48                Funes Sf 2132          Szyszko   7229026  7229026     DMR   \n49                Funes Sf 2132          Szyszko   7229025  7229025     DMR   \n50      2000 Rosario - Santa Fe            Zeano   7229024  7229024     DMR   \n...                         ...              ...       ...      ...     ...   \n208365            Santa Clarita           Kunkel   1106006  1106006     DMR   \n208366            Santa Clarita           Kunkel   1106005  1106005     DMR   \n208367            Moreno Valley         Gonzalez   1106004  1106004     DMR   \n208368               Pine Grove          Honnold   1106003  1106003     DMR   \n208369         Rancho Cucamonga          Decuire   1106002  1106002     DMR   \n\n             state       country_index               city_index  count  cumsum  \n46        Santa Fe  argentina republic       esperanza santa fe    985  193761  \n47        Santa Fe  argentina republic    pueblo esther sf 2126    985  193761  \n48        Santa Fe  argentina republic            funes sf 2132    985  193761  \n49        Santa Fe  argentina republic            funes sf 2132    985  193761  \n50        Santa Fe  argentina republic  2000 rosario - santa fe    985  193761  \n...            ...                 ...                      ...    ...     ...  \n208365  California       united states            santa clarita  93740   93740  \n208366  California       united states            santa clarita  93740   93740  \n208367  California       united states            moreno valley  93740   93740  \n208368  California       united states               pine grove  93740   93740  \n208369  California       united states         rancho cucamonga  93740   93740  \n\n[199921 rows x 14 columns]",
      "text/html": "<div>\n<style scoped>\n    .dataframe tbody tr th:only-of-type {\n        vertical-align: middle;\n    }\n\n    .dataframe tbody tr th {\n        vertical-align: top;\n    }\n\n    .dataframe thead th {\n        text-align: right;\n    }\n</style>\n<table border=\"1\" class=\"dataframe\">\n  <thead>\n    <tr style=\"text-align: right;\">\n      <th></th>\n      <th>fname</th>\n      <th>name</th>\n      <th>country</th>\n      <th>callsign</th>\n      <th>city</th>\n      <th>surname</th>\n      <th>radio_id</th>\n      <th>id</th>\n      <th>remarks</th>\n      <th>state</th>\n      <th>country_index</th>\n      <th>city_index</th>\n      <th>count</th>\n      <th>cumsum</th>\n    </tr>\n  </thead>\n  <tbody>\n    <tr>\n      <th>46</th>\n      <td>Levita</td>\n      <td>Levita</td>\n      <td>Argentina Republic</td>\n      <td>LU9FSD</td>\n      <td>Esperanza Santa Fe</td>\n      <td>Alejandro Angel</td>\n      <td>7229028</td>\n      <td>7229028</td>\n      <td>DMR</td>\n      <td>Santa Fe</td>\n      <td>argentina republic</td>\n      <td>esperanza santa fe</td>\n      <td>985</td>\n      <td>193761</td>\n    </tr>\n    <tr>\n      <th>47</th>\n      <td>Emilio Hugo</td>\n      <td>Emilio Hugo</td>\n      <td>Argentina Republic</td>\n      <td>LU2FEH</td>\n      <td>Pueblo Esther Sf 2126</td>\n      <td>Splendiani</td>\n      <td>7229027</td>\n      <td>7229027</td>\n      <td>DMR</td>\n      <td>Santa Fe</td>\n      <td>argentina republic</td>\n      <td>pueblo esther sf 2126</td>\n      <td>985</td>\n      <td>193761</td>\n    </tr>\n    <tr>\n      <th>48</th>\n      <td>Andres Vicente</td>\n      <td>Andres Vicente</td>\n      <td>Argentina Republic</td>\n      <td>LU4FOZ</td>\n      <td>Funes Sf 2132</td>\n      <td>Szyszko</td>\n      <td>7229026</td>\n      <td>7229026</td>\n      <td>DMR</td>\n      <td>Santa Fe</td>\n      <td>argentina republic</td>\n      <td>funes sf 2132</td>\n      <td>985</td>\n      <td>193761</td>\n    </tr>\n    <tr>\n      <th>49</th>\n      <td>Andres Vicente</td>\n      <td>Andres Vicente</td>\n      <td>Argentina Republic</td>\n      <td>LU4FOZ</td>\n      <td>Funes Sf 2132</td>\n      <td>Szyszko</td>\n      <td>7229025</td>\n      <td>7229025</td>\n      <td>DMR</td>\n      <td>Santa Fe</td>\n      <td>argentina republic</td>\n      <td>funes sf 2132</td>\n      <td>985</td>\n      <td>193761</td>\n    </tr>\n    <tr>\n      <th>50</th>\n      <td>Santiago Ivan</td>\n      <td>Santiago Ivan</td>\n      <td>Argentina Republic</td>\n      <td>LU1FT</td>\n      <td>2000 Rosario - Santa Fe</td>\n      <td>Zeano</td>\n      <td>7229024</td>\n      <td>7229024</td>\n      <td>DMR</td>\n      <td>Santa Fe</td>\n      <td>argentina republic</td>\n      <td>2000 rosario - santa fe</td>\n      <td>985</td>\n      <td>193761</td>\n    </tr>\n    <tr>\n      <th>...</th>\n      <td>...</td>\n      <td>...</td>\n      <td>...</td>\n      <td>...</td>\n      <td>...</td>\n      <td>...</td>\n      <td>...</td>\n      <td>...</td>\n      <td>...</td>\n      <td>...</td>\n      <td>...</td>\n      <td>...</td>\n      <td>...</td>\n      <td>...</td>\n    </tr>\n    <tr>\n      <th>208365</th>\n      <td>Brian</td>\n      <td>Brian</td>\n      <td>United States</td>\n      <td>KI6NRR</td>\n      <td>Santa Clarita</td>\n      <td>Kunkel</td>\n      <td>1106006</td>\n      <td>1106006</td>\n      <td>DMR</td>\n      <td>California</td>\n      <td>united states</td>\n      <td>santa clarita</td>\n      <td>93740</td>\n      <td>93740</td>\n    </tr>\n    <tr>\n      <th>208366</th>\n      <td>Brian</td>\n      <td>Brian</td>\n      <td>United States</td>\n      <td>KI6NRR</td>\n      <td>Santa Clarita</td>\n      <td>Kunkel</td>\n      <td>1106005</td>\n      <td>1106005</td>\n      <td>DMR</td>\n      <td>California</td>\n      <td>united states</td>\n      <td>santa clarita</td>\n      <td>93740</td>\n      <td>93740</td>\n    </tr>\n    <tr>\n      <th>208367</th>\n      <td>Raul G</td>\n      <td>Raul G</td>\n      <td>United States</td>\n      <td>N7BAR</td>\n      <td>Moreno Valley</td>\n      <td>Gonzalez</td>\n      <td>1106004</td>\n      <td>1106004</td>\n      <td>DMR</td>\n      <td>California</td>\n      <td>united states</td>\n      <td>moreno valley</td>\n      <td>93740</td>\n      <td>93740</td>\n    </tr>\n    <tr>\n      <th>208368</th>\n      <td>Frederic K</td>\n      <td>Frederic K</td>\n      <td>United States</td>\n      <td>KH7Y</td>\n      <td>Pine Grove</td>\n      <td>Honnold</td>\n      <td>1106003</td>\n      <td>1106003</td>\n      <td>DMR</td>\n      <td>California</td>\n      <td>united states</td>\n      <td>pine grove</td>\n      <td>93740</td>\n      <td>93740</td>\n    </tr>\n    <tr>\n      <th>208369</th>\n      <td>Frank</td>\n      <td>Frank</td>\n      <td>United States</td>\n      <td>K6FED</td>\n      <td>Rancho Cucamonga</td>\n      <td>Decuire</td>\n      <td>1106002</td>\n      <td>1106002</td>\n      <td>DMR</td>\n      <td>California</td>\n      <td>united states</td>\n      <td>rancho cucamonga</td>\n      <td>93740</td>\n      <td>93740</td>\n    </tr>\n  </tbody>\n</table>\n<p>199921 rows × 14 columns</p>\n</div>"
     },
     "execution_count": 13,
     "metadata": {},
     "output_type": "execute_result"
    }
   ],
   "source": [
    "codeplug_users = potential_codeplug_users.query(f\"cumsum <= {max_codeplug}\")\n",
    "codeplug_users"
   ],
   "metadata": {
    "collapsed": false,
    "pycharm": {
     "name": "#%%\n"
    }
   }
  },
  {
   "cell_type": "code",
   "execution_count": 14,
   "outputs": [
    {
     "data": {
      "text/plain": "79"
     },
     "execution_count": 14,
     "metadata": {},
     "output_type": "execute_result"
    }
   ],
   "source": [
    "delta_max = max_codeplug - len(codeplug_users)\n",
    "delta_max"
   ],
   "metadata": {
    "collapsed": false,
    "pycharm": {
     "name": "#%%\n"
    }
   }
  },
  {
   "cell_type": "code",
   "execution_count": 15,
   "outputs": [],
   "source": [
    "extra_cp_users = potential_codeplug_users.query(f\"cumsum > {max_codeplug}\").sort_values(by=[\"count\", \"radio_id\"], ascending=[False, False])\n",
    "extra_cp_users = extra_cp_users.head(delta_max)"
   ],
   "metadata": {
    "collapsed": false,
    "pycharm": {
     "name": "#%%\n"
    }
   }
  },
  {
   "cell_type": "code",
   "execution_count": 16,
   "outputs": [
    {
     "data": {
      "text/plain": "                 fname            name             country callsign  \\\n0               Levita          Levita  Argentina Republic   LU9FSD   \n1          Emilio Hugo     Emilio Hugo  Argentina Republic   LU2FEH   \n2       Andres Vicente  Andres Vicente  Argentina Republic   LU4FOZ   \n3       Andres Vicente  Andres Vicente  Argentina Republic   LU4FOZ   \n4        Santiago Ivan   Santiago Ivan  Argentina Republic    LU1FT   \n...                ...             ...                 ...      ...   \n199995           Damir           Damir             Croatia   9A5BDE   \n199996          Viktor          Viktor             Croatia    9A3VU   \n199997      Radio Club      Radio Club             Croatia   9A1HDE   \n199998          Horvat          Horvat             Croatia    9A3TR   \n199999            Alen            Alen             Croatia    9A4WW   \n\n                           city          surname  radio_id       id remarks  \\\n0            Esperanza Santa Fe  Alejandro Angel   7229028  7229028     DMR   \n1         Pueblo Esther Sf 2126       Splendiani   7229027  7229027     DMR   \n2                 Funes Sf 2132          Szyszko   7229026  7229026     DMR   \n3                 Funes Sf 2132          Szyszko   7229025  7229025     DMR   \n4       2000 Rosario - Santa Fe            Zeano   7229024  7229024     DMR   \n...                         ...              ...       ...      ...     ...   \n199995                    Split         Eterovic   2190437  2190437     DMR   \n199996           Slavonski Brod         Jelkovic   2190436  2190436     DMR   \n199997                 Varazdin         Varazdin   2190435  2190435     DMR   \n199998                 VARAZDIN           Zvonko   2190434  2190434     DMR   \n199999           43000 Bjelovar            Kuten   2190433  2190433     DMR   \n\n                    state       country_index               city_index  count  \\\n0                Santa Fe  argentina republic       esperanza santa fe    985   \n1                Santa Fe  argentina republic    pueblo esther sf 2126    985   \n2                Santa Fe  argentina republic            funes sf 2132    985   \n3                Santa Fe  argentina republic            funes sf 2132    985   \n4                Santa Fe  argentina republic  2000 rosario - santa fe    985   \n...                   ...                 ...                      ...    ...   \n199995                                croatia                    split    510   \n199996                                croatia           slavonski brod    510   \n199997                                croatia                 varazdin    510   \n199998           Varaždin             croatia                 varazdin    510   \n199999  Bjelovar-Bilogora             croatia           43000 bjelovar    510   \n\n        cumsum  \n0       193761  \n1       193761  \n2       193761  \n3       193761  \n4       193761  \n...        ...  \n199995  200431  \n199996  200431  \n199997  200431  \n199998  200431  \n199999  200431  \n\n[200000 rows x 14 columns]",
      "text/html": "<div>\n<style scoped>\n    .dataframe tbody tr th:only-of-type {\n        vertical-align: middle;\n    }\n\n    .dataframe tbody tr th {\n        vertical-align: top;\n    }\n\n    .dataframe thead th {\n        text-align: right;\n    }\n</style>\n<table border=\"1\" class=\"dataframe\">\n  <thead>\n    <tr style=\"text-align: right;\">\n      <th></th>\n      <th>fname</th>\n      <th>name</th>\n      <th>country</th>\n      <th>callsign</th>\n      <th>city</th>\n      <th>surname</th>\n      <th>radio_id</th>\n      <th>id</th>\n      <th>remarks</th>\n      <th>state</th>\n      <th>country_index</th>\n      <th>city_index</th>\n      <th>count</th>\n      <th>cumsum</th>\n    </tr>\n  </thead>\n  <tbody>\n    <tr>\n      <th>0</th>\n      <td>Levita</td>\n      <td>Levita</td>\n      <td>Argentina Republic</td>\n      <td>LU9FSD</td>\n      <td>Esperanza Santa Fe</td>\n      <td>Alejandro Angel</td>\n      <td>7229028</td>\n      <td>7229028</td>\n      <td>DMR</td>\n      <td>Santa Fe</td>\n      <td>argentina republic</td>\n      <td>esperanza santa fe</td>\n      <td>985</td>\n      <td>193761</td>\n    </tr>\n    <tr>\n      <th>1</th>\n      <td>Emilio Hugo</td>\n      <td>Emilio Hugo</td>\n      <td>Argentina Republic</td>\n      <td>LU2FEH</td>\n      <td>Pueblo Esther Sf 2126</td>\n      <td>Splendiani</td>\n      <td>7229027</td>\n      <td>7229027</td>\n      <td>DMR</td>\n      <td>Santa Fe</td>\n      <td>argentina republic</td>\n      <td>pueblo esther sf 2126</td>\n      <td>985</td>\n      <td>193761</td>\n    </tr>\n    <tr>\n      <th>2</th>\n      <td>Andres Vicente</td>\n      <td>Andres Vicente</td>\n      <td>Argentina Republic</td>\n      <td>LU4FOZ</td>\n      <td>Funes Sf 2132</td>\n      <td>Szyszko</td>\n      <td>7229026</td>\n      <td>7229026</td>\n      <td>DMR</td>\n      <td>Santa Fe</td>\n      <td>argentina republic</td>\n      <td>funes sf 2132</td>\n      <td>985</td>\n      <td>193761</td>\n    </tr>\n    <tr>\n      <th>3</th>\n      <td>Andres Vicente</td>\n      <td>Andres Vicente</td>\n      <td>Argentina Republic</td>\n      <td>LU4FOZ</td>\n      <td>Funes Sf 2132</td>\n      <td>Szyszko</td>\n      <td>7229025</td>\n      <td>7229025</td>\n      <td>DMR</td>\n      <td>Santa Fe</td>\n      <td>argentina republic</td>\n      <td>funes sf 2132</td>\n      <td>985</td>\n      <td>193761</td>\n    </tr>\n    <tr>\n      <th>4</th>\n      <td>Santiago Ivan</td>\n      <td>Santiago Ivan</td>\n      <td>Argentina Republic</td>\n      <td>LU1FT</td>\n      <td>2000 Rosario - Santa Fe</td>\n      <td>Zeano</td>\n      <td>7229024</td>\n      <td>7229024</td>\n      <td>DMR</td>\n      <td>Santa Fe</td>\n      <td>argentina republic</td>\n      <td>2000 rosario - santa fe</td>\n      <td>985</td>\n      <td>193761</td>\n    </tr>\n    <tr>\n      <th>...</th>\n      <td>...</td>\n      <td>...</td>\n      <td>...</td>\n      <td>...</td>\n      <td>...</td>\n      <td>...</td>\n      <td>...</td>\n      <td>...</td>\n      <td>...</td>\n      <td>...</td>\n      <td>...</td>\n      <td>...</td>\n      <td>...</td>\n      <td>...</td>\n    </tr>\n    <tr>\n      <th>199995</th>\n      <td>Damir</td>\n      <td>Damir</td>\n      <td>Croatia</td>\n      <td>9A5BDE</td>\n      <td>Split</td>\n      <td>Eterovic</td>\n      <td>2190437</td>\n      <td>2190437</td>\n      <td>DMR</td>\n      <td></td>\n      <td>croatia</td>\n      <td>split</td>\n      <td>510</td>\n      <td>200431</td>\n    </tr>\n    <tr>\n      <th>199996</th>\n      <td>Viktor</td>\n      <td>Viktor</td>\n      <td>Croatia</td>\n      <td>9A3VU</td>\n      <td>Slavonski Brod</td>\n      <td>Jelkovic</td>\n      <td>2190436</td>\n      <td>2190436</td>\n      <td>DMR</td>\n      <td></td>\n      <td>croatia</td>\n      <td>slavonski brod</td>\n      <td>510</td>\n      <td>200431</td>\n    </tr>\n    <tr>\n      <th>199997</th>\n      <td>Radio Club</td>\n      <td>Radio Club</td>\n      <td>Croatia</td>\n      <td>9A1HDE</td>\n      <td>Varazdin</td>\n      <td>Varazdin</td>\n      <td>2190435</td>\n      <td>2190435</td>\n      <td>DMR</td>\n      <td></td>\n      <td>croatia</td>\n      <td>varazdin</td>\n      <td>510</td>\n      <td>200431</td>\n    </tr>\n    <tr>\n      <th>199998</th>\n      <td>Horvat</td>\n      <td>Horvat</td>\n      <td>Croatia</td>\n      <td>9A3TR</td>\n      <td>VARAZDIN</td>\n      <td>Zvonko</td>\n      <td>2190434</td>\n      <td>2190434</td>\n      <td>DMR</td>\n      <td>Varaždin</td>\n      <td>croatia</td>\n      <td>varazdin</td>\n      <td>510</td>\n      <td>200431</td>\n    </tr>\n    <tr>\n      <th>199999</th>\n      <td>Alen</td>\n      <td>Alen</td>\n      <td>Croatia</td>\n      <td>9A4WW</td>\n      <td>43000 Bjelovar</td>\n      <td>Kuten</td>\n      <td>2190433</td>\n      <td>2190433</td>\n      <td>DMR</td>\n      <td>Bjelovar-Bilogora</td>\n      <td>croatia</td>\n      <td>43000 bjelovar</td>\n      <td>510</td>\n      <td>200431</td>\n    </tr>\n  </tbody>\n</table>\n<p>200000 rows × 14 columns</p>\n</div>"
     },
     "execution_count": 16,
     "metadata": {},
     "output_type": "execute_result"
    }
   ],
   "source": [
    "codeplug_users = pd.concat([codeplug_users, extra_cp_users], ignore_index=True)\n",
    "codeplug_users"
   ],
   "metadata": {
    "collapsed": false,
    "pycharm": {
     "name": "#%%\n"
    }
   }
  },
  {
   "cell_type": "code",
   "execution_count": 17,
   "outputs": [
    {
     "data": {
      "text/plain": "                 fname            name             country callsign  \\\n0               Levita          Levita  Argentina Republic   LU9FSD   \n1          Emilio Hugo     Emilio Hugo  Argentina Republic   LU2FEH   \n2       Andres Vicente  Andres Vicente  Argentina Republic   LU4FOZ   \n3       Andres Vicente  Andres Vicente  Argentina Republic   LU4FOZ   \n4        Santiago Ivan   Santiago Ivan  Argentina Republic    LU1FT   \n...                ...             ...                 ...      ...   \n199995           Damir           Damir             Croatia   9A5BDE   \n199996          Viktor          Viktor             Croatia    9A3VU   \n199997      Radio Club      Radio Club             Croatia   9A1HDE   \n199998          Horvat          Horvat             Croatia    9A3TR   \n199999            Alen            Alen             Croatia    9A4WW   \n\n                           city          surname  radio_id remarks  \\\n0            Esperanza Santa Fe  Alejandro Angel   7229028     DMR   \n1         Pueblo Esther Sf 2126       Splendiani   7229027     DMR   \n2                 Funes Sf 2132          Szyszko   7229026     DMR   \n3                 Funes Sf 2132          Szyszko   7229025     DMR   \n4       2000 Rosario - Santa Fe            Zeano   7229024     DMR   \n...                         ...              ...       ...     ...   \n199995                    Split         Eterovic   2190437     DMR   \n199996           Slavonski Brod         Jelkovic   2190436     DMR   \n199997                 Varazdin         Varazdin   2190435     DMR   \n199998                 VARAZDIN           Zvonko   2190434     DMR   \n199999           43000 Bjelovar            Kuten   2190433     DMR   \n\n                    state               full name  \n0                Santa Fe  Levita Alejandro Angel  \n1                Santa Fe  Emilio Hugo Splendiani  \n2                Santa Fe  Andres Vicente Szyszko  \n3                Santa Fe  Andres Vicente Szyszko  \n4                Santa Fe     Santiago Ivan Zeano  \n...                   ...                     ...  \n199995                             Damir Eterovic  \n199996                            Viktor Jelkovic  \n199997                        Radio Club Varazdin  \n199998           Varaždin           Horvat Zvonko  \n199999  Bjelovar-Bilogora              Alen Kuten  \n\n[200000 rows x 10 columns]",
      "text/html": "<div>\n<style scoped>\n    .dataframe tbody tr th:only-of-type {\n        vertical-align: middle;\n    }\n\n    .dataframe tbody tr th {\n        vertical-align: top;\n    }\n\n    .dataframe thead th {\n        text-align: right;\n    }\n</style>\n<table border=\"1\" class=\"dataframe\">\n  <thead>\n    <tr style=\"text-align: right;\">\n      <th></th>\n      <th>fname</th>\n      <th>name</th>\n      <th>country</th>\n      <th>callsign</th>\n      <th>city</th>\n      <th>surname</th>\n      <th>radio_id</th>\n      <th>remarks</th>\n      <th>state</th>\n      <th>full name</th>\n    </tr>\n  </thead>\n  <tbody>\n    <tr>\n      <th>0</th>\n      <td>Levita</td>\n      <td>Levita</td>\n      <td>Argentina Republic</td>\n      <td>LU9FSD</td>\n      <td>Esperanza Santa Fe</td>\n      <td>Alejandro Angel</td>\n      <td>7229028</td>\n      <td>DMR</td>\n      <td>Santa Fe</td>\n      <td>Levita Alejandro Angel</td>\n    </tr>\n    <tr>\n      <th>1</th>\n      <td>Emilio Hugo</td>\n      <td>Emilio Hugo</td>\n      <td>Argentina Republic</td>\n      <td>LU2FEH</td>\n      <td>Pueblo Esther Sf 2126</td>\n      <td>Splendiani</td>\n      <td>7229027</td>\n      <td>DMR</td>\n      <td>Santa Fe</td>\n      <td>Emilio Hugo Splendiani</td>\n    </tr>\n    <tr>\n      <th>2</th>\n      <td>Andres Vicente</td>\n      <td>Andres Vicente</td>\n      <td>Argentina Republic</td>\n      <td>LU4FOZ</td>\n      <td>Funes Sf 2132</td>\n      <td>Szyszko</td>\n      <td>7229026</td>\n      <td>DMR</td>\n      <td>Santa Fe</td>\n      <td>Andres Vicente Szyszko</td>\n    </tr>\n    <tr>\n      <th>3</th>\n      <td>Andres Vicente</td>\n      <td>Andres Vicente</td>\n      <td>Argentina Republic</td>\n      <td>LU4FOZ</td>\n      <td>Funes Sf 2132</td>\n      <td>Szyszko</td>\n      <td>7229025</td>\n      <td>DMR</td>\n      <td>Santa Fe</td>\n      <td>Andres Vicente Szyszko</td>\n    </tr>\n    <tr>\n      <th>4</th>\n      <td>Santiago Ivan</td>\n      <td>Santiago Ivan</td>\n      <td>Argentina Republic</td>\n      <td>LU1FT</td>\n      <td>2000 Rosario - Santa Fe</td>\n      <td>Zeano</td>\n      <td>7229024</td>\n      <td>DMR</td>\n      <td>Santa Fe</td>\n      <td>Santiago Ivan Zeano</td>\n    </tr>\n    <tr>\n      <th>...</th>\n      <td>...</td>\n      <td>...</td>\n      <td>...</td>\n      <td>...</td>\n      <td>...</td>\n      <td>...</td>\n      <td>...</td>\n      <td>...</td>\n      <td>...</td>\n      <td>...</td>\n    </tr>\n    <tr>\n      <th>199995</th>\n      <td>Damir</td>\n      <td>Damir</td>\n      <td>Croatia</td>\n      <td>9A5BDE</td>\n      <td>Split</td>\n      <td>Eterovic</td>\n      <td>2190437</td>\n      <td>DMR</td>\n      <td></td>\n      <td>Damir Eterovic</td>\n    </tr>\n    <tr>\n      <th>199996</th>\n      <td>Viktor</td>\n      <td>Viktor</td>\n      <td>Croatia</td>\n      <td>9A3VU</td>\n      <td>Slavonski Brod</td>\n      <td>Jelkovic</td>\n      <td>2190436</td>\n      <td>DMR</td>\n      <td></td>\n      <td>Viktor Jelkovic</td>\n    </tr>\n    <tr>\n      <th>199997</th>\n      <td>Radio Club</td>\n      <td>Radio Club</td>\n      <td>Croatia</td>\n      <td>9A1HDE</td>\n      <td>Varazdin</td>\n      <td>Varazdin</td>\n      <td>2190435</td>\n      <td>DMR</td>\n      <td></td>\n      <td>Radio Club Varazdin</td>\n    </tr>\n    <tr>\n      <th>199998</th>\n      <td>Horvat</td>\n      <td>Horvat</td>\n      <td>Croatia</td>\n      <td>9A3TR</td>\n      <td>VARAZDIN</td>\n      <td>Zvonko</td>\n      <td>2190434</td>\n      <td>DMR</td>\n      <td>Varaždin</td>\n      <td>Horvat Zvonko</td>\n    </tr>\n    <tr>\n      <th>199999</th>\n      <td>Alen</td>\n      <td>Alen</td>\n      <td>Croatia</td>\n      <td>9A4WW</td>\n      <td>43000 Bjelovar</td>\n      <td>Kuten</td>\n      <td>2190433</td>\n      <td>DMR</td>\n      <td>Bjelovar-Bilogora</td>\n      <td>Alen Kuten</td>\n    </tr>\n  </tbody>\n</table>\n<p>200000 rows × 10 columns</p>\n</div>"
     },
     "execution_count": 17,
     "metadata": {},
     "output_type": "execute_result"
    }
   ],
   "source": [
    "codeplug_users = codeplug_users.drop(columns=[\"country_index\", \"city_index\", \"count\", \"cumsum\", \"id\"])\n",
    "\n",
    "\n",
    "def join_name(u: pd.Series) -> str:\n",
    "    if str(u.fname).endswith(u.surname) or u.surname is None or u.surname.strip().lower() in [\"\", \"none\"]:\n",
    "        return u.fname\n",
    "    else:\n",
    "        return f\"{u.fname} {u.surname}\"\n",
    "\n",
    "codeplug_users['full name'] = codeplug_users.apply(join_name, axis='columns')\n",
    "codeplug_users"
   ],
   "metadata": {
    "collapsed": false,
    "pycharm": {
     "name": "#%%\n"
    }
   }
  },
  {
   "cell_type": "code",
   "execution_count": 18,
   "outputs": [
    {
     "data": {
      "text/plain": "       Radio ID Callsign            Name              City         State  \\\n18000   1023001   VE3THW           Wayne            Edward       Toronto   \n17999   1023002   VA3ECM         Mathieu            Goulet   Ottawa-Hull   \n17998   1023003    VE3QC             Guy           Charron    Gloucester   \n17997   1023006    VA3UZ   Allan Timothy            Harvey        Sparta   \n17996   1023007   VA3BOC    Hans Juergen          Bockholt      Cornwall   \n...         ...      ...             ...               ...           ...   \n18005   7308005   CA8PVT           Pedro      Vera Paredes  Punta Arenas   \n18004   7308006   CD8DQF           David          Aguilera  Punta Arenas   \n18003   7308007   CA8AIJ           Guido             Iceta      Porvenir   \n18002   7308008   CA8EVZ  Eduardo Hernan  Valenzuela Pavez  Punta Arenas   \n18001   7308009   CE8LGA            Luis          Umazabal  Puerto Montt   \n\n          Country Remarks  \n18000     Ontario  Canada  \n17999      Quebec  Canada  \n17998     Ontario  Canada  \n17997     Ontario  Canada  \n17996     Ontario  Canada  \n...           ...     ...  \n18005  Magallanes   Chile  \n18004  Magallanes   Chile  \n18003  Magallanes   Chile  \n18002  Magallanes   Chile  \n18001   Los Lagos   Chile  \n\n[200000 rows x 7 columns]",
      "text/html": "<div>\n<style scoped>\n    .dataframe tbody tr th:only-of-type {\n        vertical-align: middle;\n    }\n\n    .dataframe tbody tr th {\n        vertical-align: top;\n    }\n\n    .dataframe thead th {\n        text-align: right;\n    }\n</style>\n<table border=\"1\" class=\"dataframe\">\n  <thead>\n    <tr style=\"text-align: right;\">\n      <th></th>\n      <th>Radio ID</th>\n      <th>Callsign</th>\n      <th>Name</th>\n      <th>City</th>\n      <th>State</th>\n      <th>Country</th>\n      <th>Remarks</th>\n    </tr>\n  </thead>\n  <tbody>\n    <tr>\n      <th>18000</th>\n      <td>1023001</td>\n      <td>VE3THW</td>\n      <td>Wayne</td>\n      <td>Edward</td>\n      <td>Toronto</td>\n      <td>Ontario</td>\n      <td>Canada</td>\n    </tr>\n    <tr>\n      <th>17999</th>\n      <td>1023002</td>\n      <td>VA3ECM</td>\n      <td>Mathieu</td>\n      <td>Goulet</td>\n      <td>Ottawa-Hull</td>\n      <td>Quebec</td>\n      <td>Canada</td>\n    </tr>\n    <tr>\n      <th>17998</th>\n      <td>1023003</td>\n      <td>VE3QC</td>\n      <td>Guy</td>\n      <td>Charron</td>\n      <td>Gloucester</td>\n      <td>Ontario</td>\n      <td>Canada</td>\n    </tr>\n    <tr>\n      <th>17997</th>\n      <td>1023006</td>\n      <td>VA3UZ</td>\n      <td>Allan Timothy</td>\n      <td>Harvey</td>\n      <td>Sparta</td>\n      <td>Ontario</td>\n      <td>Canada</td>\n    </tr>\n    <tr>\n      <th>17996</th>\n      <td>1023007</td>\n      <td>VA3BOC</td>\n      <td>Hans Juergen</td>\n      <td>Bockholt</td>\n      <td>Cornwall</td>\n      <td>Ontario</td>\n      <td>Canada</td>\n    </tr>\n    <tr>\n      <th>...</th>\n      <td>...</td>\n      <td>...</td>\n      <td>...</td>\n      <td>...</td>\n      <td>...</td>\n      <td>...</td>\n      <td>...</td>\n    </tr>\n    <tr>\n      <th>18005</th>\n      <td>7308005</td>\n      <td>CA8PVT</td>\n      <td>Pedro</td>\n      <td>Vera Paredes</td>\n      <td>Punta Arenas</td>\n      <td>Magallanes</td>\n      <td>Chile</td>\n    </tr>\n    <tr>\n      <th>18004</th>\n      <td>7308006</td>\n      <td>CD8DQF</td>\n      <td>David</td>\n      <td>Aguilera</td>\n      <td>Punta Arenas</td>\n      <td>Magallanes</td>\n      <td>Chile</td>\n    </tr>\n    <tr>\n      <th>18003</th>\n      <td>7308007</td>\n      <td>CA8AIJ</td>\n      <td>Guido</td>\n      <td>Iceta</td>\n      <td>Porvenir</td>\n      <td>Magallanes</td>\n      <td>Chile</td>\n    </tr>\n    <tr>\n      <th>18002</th>\n      <td>7308008</td>\n      <td>CA8EVZ</td>\n      <td>Eduardo Hernan</td>\n      <td>Valenzuela Pavez</td>\n      <td>Punta Arenas</td>\n      <td>Magallanes</td>\n      <td>Chile</td>\n    </tr>\n    <tr>\n      <th>18001</th>\n      <td>7308009</td>\n      <td>CE8LGA</td>\n      <td>Luis</td>\n      <td>Umazabal</td>\n      <td>Puerto Montt</td>\n      <td>Los Lagos</td>\n      <td>Chile</td>\n    </tr>\n  </tbody>\n</table>\n<p>200000 rows × 7 columns</p>\n</div>"
     },
     "execution_count": 18,
     "metadata": {},
     "output_type": "execute_result"
    }
   ],
   "source": [
    "codeplug_users[\"radio_id_idx\"] = codeplug_users[\"radio_id\"].astype(int)\n",
    "codeplug_users = codeplug_users.sort_values(by=\"radio_id_idx\").drop(columns=[\"radio_id_idx\"])\n",
    "\n",
    "fullname = False\n",
    "if fullname:\n",
    "    codeplug_users = codeplug_users[[\"radio_id\", \"callsign\", \"Name\", \"city\", \"state\", \"country\", \"remarks\"]]\n",
    "\n",
    "    colnames = {\n",
    "        'radio_id': \"Radio ID\",\n",
    "        'callsign': \"Callsign\",\n",
    "        'city': \"City\",\n",
    "        'state': \"State\",\n",
    "        'country': \"Country\",\n",
    "        'remarks': \"Remarks\"\n",
    "    }\n",
    "else:\n",
    "    codeplug_users =  codeplug_users[[\"radio_id\", \"callsign\", \"fname\", \"surname\", \"city\", \"state\", \"country\"]]\n",
    "\n",
    "    colnames = {\n",
    "        'radio_id': \"Radio ID\",\n",
    "        'callsign': \"Callsign\",\n",
    "        'fname': \"Name\",\n",
    "        'surname': \"City\",\n",
    "        'city': \"State\",\n",
    "        'state': \"Country\",\n",
    "        'country': \"Remarks\"\n",
    "    }\n",
    "\n",
    "codeplug_users = codeplug_users.rename(columns=colnames)\n",
    "codeplug_users"
   ],
   "metadata": {
    "collapsed": false,
    "pycharm": {
     "name": "#%%\n"
    }
   }
  },
  {
   "cell_type": "code",
   "execution_count": 19,
   "outputs": [
    {
     "data": {
      "text/plain": "       Radio ID Callsign            Name              City         State  \\\n18000   1023001   VE3THW           Wayne            Edward       Toronto   \n17999   1023002   VA3ECM         Mathieu            Goulet   Ottawa-Hull   \n17998   1023003    VE3QC             Guy           Charron    Gloucester   \n17997   1023006    VA3UZ   Allan Timothy            Harvey        Sparta   \n17996   1023007   VA3BOC    Hans Juergen          Bockholt      Cornwall   \n...         ...      ...             ...               ...           ...   \n18005   7308005   CA8PVT           Pedro      Vera Paredes  Punta Arenas   \n18004   7308006   CD8DQF           David          Aguilera  Punta Arenas   \n18003   7308007   CA8AIJ           Guido             Iceta      Porvenir   \n18002   7308008   CA8EVZ  Eduardo Hernan  Valenzuela Pavez  Punta Arenas   \n18001   7308009   CE8LGA            Luis          Umazabal  Puerto Montt   \n\n          Country Remarks     No.  \n18000     Ontario  Canada       1  \n17999      Quebec  Canada       2  \n17998     Ontario  Canada       3  \n17997     Ontario  Canada       4  \n17996     Ontario  Canada       5  \n...           ...     ...     ...  \n18005  Magallanes   Chile  199996  \n18004  Magallanes   Chile  199997  \n18003  Magallanes   Chile  199998  \n18002  Magallanes   Chile  199999  \n18001   Los Lagos   Chile  200000  \n\n[200000 rows x 8 columns]",
      "text/html": "<div>\n<style scoped>\n    .dataframe tbody tr th:only-of-type {\n        vertical-align: middle;\n    }\n\n    .dataframe tbody tr th {\n        vertical-align: top;\n    }\n\n    .dataframe thead th {\n        text-align: right;\n    }\n</style>\n<table border=\"1\" class=\"dataframe\">\n  <thead>\n    <tr style=\"text-align: right;\">\n      <th></th>\n      <th>Radio ID</th>\n      <th>Callsign</th>\n      <th>Name</th>\n      <th>City</th>\n      <th>State</th>\n      <th>Country</th>\n      <th>Remarks</th>\n      <th>No.</th>\n    </tr>\n  </thead>\n  <tbody>\n    <tr>\n      <th>18000</th>\n      <td>1023001</td>\n      <td>VE3THW</td>\n      <td>Wayne</td>\n      <td>Edward</td>\n      <td>Toronto</td>\n      <td>Ontario</td>\n      <td>Canada</td>\n      <td>1</td>\n    </tr>\n    <tr>\n      <th>17999</th>\n      <td>1023002</td>\n      <td>VA3ECM</td>\n      <td>Mathieu</td>\n      <td>Goulet</td>\n      <td>Ottawa-Hull</td>\n      <td>Quebec</td>\n      <td>Canada</td>\n      <td>2</td>\n    </tr>\n    <tr>\n      <th>17998</th>\n      <td>1023003</td>\n      <td>VE3QC</td>\n      <td>Guy</td>\n      <td>Charron</td>\n      <td>Gloucester</td>\n      <td>Ontario</td>\n      <td>Canada</td>\n      <td>3</td>\n    </tr>\n    <tr>\n      <th>17997</th>\n      <td>1023006</td>\n      <td>VA3UZ</td>\n      <td>Allan Timothy</td>\n      <td>Harvey</td>\n      <td>Sparta</td>\n      <td>Ontario</td>\n      <td>Canada</td>\n      <td>4</td>\n    </tr>\n    <tr>\n      <th>17996</th>\n      <td>1023007</td>\n      <td>VA3BOC</td>\n      <td>Hans Juergen</td>\n      <td>Bockholt</td>\n      <td>Cornwall</td>\n      <td>Ontario</td>\n      <td>Canada</td>\n      <td>5</td>\n    </tr>\n    <tr>\n      <th>...</th>\n      <td>...</td>\n      <td>...</td>\n      <td>...</td>\n      <td>...</td>\n      <td>...</td>\n      <td>...</td>\n      <td>...</td>\n      <td>...</td>\n    </tr>\n    <tr>\n      <th>18005</th>\n      <td>7308005</td>\n      <td>CA8PVT</td>\n      <td>Pedro</td>\n      <td>Vera Paredes</td>\n      <td>Punta Arenas</td>\n      <td>Magallanes</td>\n      <td>Chile</td>\n      <td>199996</td>\n    </tr>\n    <tr>\n      <th>18004</th>\n      <td>7308006</td>\n      <td>CD8DQF</td>\n      <td>David</td>\n      <td>Aguilera</td>\n      <td>Punta Arenas</td>\n      <td>Magallanes</td>\n      <td>Chile</td>\n      <td>199997</td>\n    </tr>\n    <tr>\n      <th>18003</th>\n      <td>7308007</td>\n      <td>CA8AIJ</td>\n      <td>Guido</td>\n      <td>Iceta</td>\n      <td>Porvenir</td>\n      <td>Magallanes</td>\n      <td>Chile</td>\n      <td>199998</td>\n    </tr>\n    <tr>\n      <th>18002</th>\n      <td>7308008</td>\n      <td>CA8EVZ</td>\n      <td>Eduardo Hernan</td>\n      <td>Valenzuela Pavez</td>\n      <td>Punta Arenas</td>\n      <td>Magallanes</td>\n      <td>Chile</td>\n      <td>199999</td>\n    </tr>\n    <tr>\n      <th>18001</th>\n      <td>7308009</td>\n      <td>CE8LGA</td>\n      <td>Luis</td>\n      <td>Umazabal</td>\n      <td>Puerto Montt</td>\n      <td>Los Lagos</td>\n      <td>Chile</td>\n      <td>200000</td>\n    </tr>\n  </tbody>\n</table>\n<p>200000 rows × 8 columns</p>\n</div>"
     },
     "execution_count": 19,
     "metadata": {},
     "output_type": "execute_result"
    }
   ],
   "source": [
    "codeplug_users['No.'] = (codeplug_users.reset_index(drop=True).index + 1).to_list()\n",
    "codeplug_users"
   ],
   "metadata": {
    "collapsed": false,
    "pycharm": {
     "name": "#%%\n"
    }
   }
  },
  {
   "cell_type": "code",
   "execution_count": 20,
   "outputs": [],
   "source": [
    "column_order = [\"No.\",\"Radio ID\",\"Callsign\",\"Name\",\"City\",\"State\",\"Country\",\"Remarks\", \"Call Type\", \"Call Alert\"]\n",
    "codeplug_users.loc[:, \"Call Type\"] = \"Private Call\"\n",
    "codeplug_users.loc[:, \"Call Alert\"] = \"None\"\n",
    "\n",
    "codeplug_users[column_order].to_csv(output_file,\n",
    "                                    index=None, quoting=csv.QUOTE_ALL, line_terminator='\\r\\n')"
   ],
   "metadata": {
    "collapsed": false,
    "pycharm": {
     "name": "#%%\n"
    }
   }
  },
  {
   "cell_type": "code",
   "execution_count": 20,
   "outputs": [],
   "source": [],
   "metadata": {
    "collapsed": false,
    "pycharm": {
     "name": "#%%\n"
    }
   }
  }
 ],
 "metadata": {
  "kernelspec": {
   "name": "pycharm-59ba039d",
   "language": "python",
   "display_name": "PyCharm (dmr_contact_utils)"
  },
  "language_info": {
   "codemirror_mode": {
    "name": "ipython",
    "version": 2
   },
   "file_extension": ".py",
   "mimetype": "text/x-python",
   "name": "python",
   "nbconvert_exporter": "python",
   "pygments_lexer": "ipython2",
   "version": "2.7.6"
  }
 },
 "nbformat": 4,
 "nbformat_minor": 0
}